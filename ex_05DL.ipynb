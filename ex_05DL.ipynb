{
  "nbformat": 4,
  "nbformat_minor": 0,
  "metadata": {
    "colab": {
      "provenance": []
    },
    "kernelspec": {
      "name": "python3",
      "display_name": "Python 3"
    },
    "language_info": {
      "name": "python"
    }
  },
  "cells": [
    {
      "cell_type": "code",
      "execution_count": 4,
      "metadata": {
        "id": "HqueUhHMDL4v"
      },
      "outputs": [],
      "source": [
        "import numpy as np\n",
        "import matplotlib.pyplot as plt\n",
        "import pandas as pd\n",
        "from sklearn.preprocessing import MinMaxScaler\n",
        "from keras import layers\n",
        "from keras.models import Sequential\n",
        "from keras import models"
      ]
    },
    {
      "cell_type": "code",
      "source": [
        "dataset_train = pd.read_csv('trainset.csv')"
      ],
      "metadata": {
        "id": "1hCUHgndEUqu"
      },
      "execution_count": 6,
      "outputs": []
    },
    {
      "cell_type": "code",
      "source": [
        "dataset_train.columns"
      ],
      "metadata": {
        "colab": {
          "base_uri": "https://localhost:8080/"
        },
        "id": "FUngBDCUEZcs",
        "outputId": "1e1203bb-3523-4104-8a38-3b92ee83a5b0"
      },
      "execution_count": 7,
      "outputs": [
        {
          "output_type": "execute_result",
          "data": {
            "text/plain": [
              "Index(['Date', 'Open', 'High', 'Low', 'Close', 'Adj Close', 'Volume'], dtype='object')"
            ]
          },
          "metadata": {},
          "execution_count": 7
        }
      ]
    },
    {
      "cell_type": "code",
      "source": [
        "dataset_train.head()"
      ],
      "metadata": {
        "colab": {
          "base_uri": "https://localhost:8080/",
          "height": 206
        },
        "id": "sn6Ou1KrEb9q",
        "outputId": "872c4507-95a7-47db-e639-daef7040e2ce"
      },
      "execution_count": 8,
      "outputs": [
        {
          "output_type": "execute_result",
          "data": {
            "text/plain": [
              "         Date        Open        High         Low       Close   Adj Close  \\\n",
              "0  2013-01-02  357.385559  361.151062  355.959839  359.288177  359.288177   \n",
              "1  2013-01-03  360.122742  363.600128  358.031342  359.496826  359.496826   \n",
              "2  2013-01-04  362.313507  368.339294  361.488861  366.600616  366.600616   \n",
              "3  2013-01-07  365.348755  367.301056  362.929504  365.001007  365.001007   \n",
              "4  2013-01-08  365.393463  365.771027  359.874359  364.280701  364.280701   \n",
              "\n",
              "    Volume  \n",
              "0  5115500  \n",
              "1  4666500  \n",
              "2  5562800  \n",
              "3  3332900  \n",
              "4  3373900  "
            ],
            "text/html": [
              "\n",
              "  <div id=\"df-009d4d5e-e92b-42ca-a871-2ddd15336f1e\" class=\"colab-df-container\">\n",
              "    <div>\n",
              "<style scoped>\n",
              "    .dataframe tbody tr th:only-of-type {\n",
              "        vertical-align: middle;\n",
              "    }\n",
              "\n",
              "    .dataframe tbody tr th {\n",
              "        vertical-align: top;\n",
              "    }\n",
              "\n",
              "    .dataframe thead th {\n",
              "        text-align: right;\n",
              "    }\n",
              "</style>\n",
              "<table border=\"1\" class=\"dataframe\">\n",
              "  <thead>\n",
              "    <tr style=\"text-align: right;\">\n",
              "      <th></th>\n",
              "      <th>Date</th>\n",
              "      <th>Open</th>\n",
              "      <th>High</th>\n",
              "      <th>Low</th>\n",
              "      <th>Close</th>\n",
              "      <th>Adj Close</th>\n",
              "      <th>Volume</th>\n",
              "    </tr>\n",
              "  </thead>\n",
              "  <tbody>\n",
              "    <tr>\n",
              "      <th>0</th>\n",
              "      <td>2013-01-02</td>\n",
              "      <td>357.385559</td>\n",
              "      <td>361.151062</td>\n",
              "      <td>355.959839</td>\n",
              "      <td>359.288177</td>\n",
              "      <td>359.288177</td>\n",
              "      <td>5115500</td>\n",
              "    </tr>\n",
              "    <tr>\n",
              "      <th>1</th>\n",
              "      <td>2013-01-03</td>\n",
              "      <td>360.122742</td>\n",
              "      <td>363.600128</td>\n",
              "      <td>358.031342</td>\n",
              "      <td>359.496826</td>\n",
              "      <td>359.496826</td>\n",
              "      <td>4666500</td>\n",
              "    </tr>\n",
              "    <tr>\n",
              "      <th>2</th>\n",
              "      <td>2013-01-04</td>\n",
              "      <td>362.313507</td>\n",
              "      <td>368.339294</td>\n",
              "      <td>361.488861</td>\n",
              "      <td>366.600616</td>\n",
              "      <td>366.600616</td>\n",
              "      <td>5562800</td>\n",
              "    </tr>\n",
              "    <tr>\n",
              "      <th>3</th>\n",
              "      <td>2013-01-07</td>\n",
              "      <td>365.348755</td>\n",
              "      <td>367.301056</td>\n",
              "      <td>362.929504</td>\n",
              "      <td>365.001007</td>\n",
              "      <td>365.001007</td>\n",
              "      <td>3332900</td>\n",
              "    </tr>\n",
              "    <tr>\n",
              "      <th>4</th>\n",
              "      <td>2013-01-08</td>\n",
              "      <td>365.393463</td>\n",
              "      <td>365.771027</td>\n",
              "      <td>359.874359</td>\n",
              "      <td>364.280701</td>\n",
              "      <td>364.280701</td>\n",
              "      <td>3373900</td>\n",
              "    </tr>\n",
              "  </tbody>\n",
              "</table>\n",
              "</div>\n",
              "    <div class=\"colab-df-buttons\">\n",
              "\n",
              "  <div class=\"colab-df-container\">\n",
              "    <button class=\"colab-df-convert\" onclick=\"convertToInteractive('df-009d4d5e-e92b-42ca-a871-2ddd15336f1e')\"\n",
              "            title=\"Convert this dataframe to an interactive table.\"\n",
              "            style=\"display:none;\">\n",
              "\n",
              "  <svg xmlns=\"http://www.w3.org/2000/svg\" height=\"24px\" viewBox=\"0 -960 960 960\">\n",
              "    <path d=\"M120-120v-720h720v720H120Zm60-500h600v-160H180v160Zm220 220h160v-160H400v160Zm0 220h160v-160H400v160ZM180-400h160v-160H180v160Zm440 0h160v-160H620v160ZM180-180h160v-160H180v160Zm440 0h160v-160H620v160Z\"/>\n",
              "  </svg>\n",
              "    </button>\n",
              "\n",
              "  <style>\n",
              "    .colab-df-container {\n",
              "      display:flex;\n",
              "      gap: 12px;\n",
              "    }\n",
              "\n",
              "    .colab-df-convert {\n",
              "      background-color: #E8F0FE;\n",
              "      border: none;\n",
              "      border-radius: 50%;\n",
              "      cursor: pointer;\n",
              "      display: none;\n",
              "      fill: #1967D2;\n",
              "      height: 32px;\n",
              "      padding: 0 0 0 0;\n",
              "      width: 32px;\n",
              "    }\n",
              "\n",
              "    .colab-df-convert:hover {\n",
              "      background-color: #E2EBFA;\n",
              "      box-shadow: 0px 1px 2px rgba(60, 64, 67, 0.3), 0px 1px 3px 1px rgba(60, 64, 67, 0.15);\n",
              "      fill: #174EA6;\n",
              "    }\n",
              "\n",
              "    .colab-df-buttons div {\n",
              "      margin-bottom: 4px;\n",
              "    }\n",
              "\n",
              "    [theme=dark] .colab-df-convert {\n",
              "      background-color: #3B4455;\n",
              "      fill: #D2E3FC;\n",
              "    }\n",
              "\n",
              "    [theme=dark] .colab-df-convert:hover {\n",
              "      background-color: #434B5C;\n",
              "      box-shadow: 0px 1px 3px 1px rgba(0, 0, 0, 0.15);\n",
              "      filter: drop-shadow(0px 1px 2px rgba(0, 0, 0, 0.3));\n",
              "      fill: #FFFFFF;\n",
              "    }\n",
              "  </style>\n",
              "\n",
              "    <script>\n",
              "      const buttonEl =\n",
              "        document.querySelector('#df-009d4d5e-e92b-42ca-a871-2ddd15336f1e button.colab-df-convert');\n",
              "      buttonEl.style.display =\n",
              "        google.colab.kernel.accessAllowed ? 'block' : 'none';\n",
              "\n",
              "      async function convertToInteractive(key) {\n",
              "        const element = document.querySelector('#df-009d4d5e-e92b-42ca-a871-2ddd15336f1e');\n",
              "        const dataTable =\n",
              "          await google.colab.kernel.invokeFunction('convertToInteractive',\n",
              "                                                    [key], {});\n",
              "        if (!dataTable) return;\n",
              "\n",
              "        const docLinkHtml = 'Like what you see? Visit the ' +\n",
              "          '<a target=\"_blank\" href=https://colab.research.google.com/notebooks/data_table.ipynb>data table notebook</a>'\n",
              "          + ' to learn more about interactive tables.';\n",
              "        element.innerHTML = '';\n",
              "        dataTable['output_type'] = 'display_data';\n",
              "        await google.colab.output.renderOutput(dataTable, element);\n",
              "        const docLink = document.createElement('div');\n",
              "        docLink.innerHTML = docLinkHtml;\n",
              "        element.appendChild(docLink);\n",
              "      }\n",
              "    </script>\n",
              "  </div>\n",
              "\n",
              "\n",
              "<div id=\"df-b5e8ee67-86bc-476c-8dc7-3f9110c3ab97\">\n",
              "  <button class=\"colab-df-quickchart\" onclick=\"quickchart('df-b5e8ee67-86bc-476c-8dc7-3f9110c3ab97')\"\n",
              "            title=\"Suggest charts\"\n",
              "            style=\"display:none;\">\n",
              "\n",
              "<svg xmlns=\"http://www.w3.org/2000/svg\" height=\"24px\"viewBox=\"0 0 24 24\"\n",
              "     width=\"24px\">\n",
              "    <g>\n",
              "        <path d=\"M19 3H5c-1.1 0-2 .9-2 2v14c0 1.1.9 2 2 2h14c1.1 0 2-.9 2-2V5c0-1.1-.9-2-2-2zM9 17H7v-7h2v7zm4 0h-2V7h2v10zm4 0h-2v-4h2v4z\"/>\n",
              "    </g>\n",
              "</svg>\n",
              "  </button>\n",
              "\n",
              "<style>\n",
              "  .colab-df-quickchart {\n",
              "      --bg-color: #E8F0FE;\n",
              "      --fill-color: #1967D2;\n",
              "      --hover-bg-color: #E2EBFA;\n",
              "      --hover-fill-color: #174EA6;\n",
              "      --disabled-fill-color: #AAA;\n",
              "      --disabled-bg-color: #DDD;\n",
              "  }\n",
              "\n",
              "  [theme=dark] .colab-df-quickchart {\n",
              "      --bg-color: #3B4455;\n",
              "      --fill-color: #D2E3FC;\n",
              "      --hover-bg-color: #434B5C;\n",
              "      --hover-fill-color: #FFFFFF;\n",
              "      --disabled-bg-color: #3B4455;\n",
              "      --disabled-fill-color: #666;\n",
              "  }\n",
              "\n",
              "  .colab-df-quickchart {\n",
              "    background-color: var(--bg-color);\n",
              "    border: none;\n",
              "    border-radius: 50%;\n",
              "    cursor: pointer;\n",
              "    display: none;\n",
              "    fill: var(--fill-color);\n",
              "    height: 32px;\n",
              "    padding: 0;\n",
              "    width: 32px;\n",
              "  }\n",
              "\n",
              "  .colab-df-quickchart:hover {\n",
              "    background-color: var(--hover-bg-color);\n",
              "    box-shadow: 0 1px 2px rgba(60, 64, 67, 0.3), 0 1px 3px 1px rgba(60, 64, 67, 0.15);\n",
              "    fill: var(--button-hover-fill-color);\n",
              "  }\n",
              "\n",
              "  .colab-df-quickchart-complete:disabled,\n",
              "  .colab-df-quickchart-complete:disabled:hover {\n",
              "    background-color: var(--disabled-bg-color);\n",
              "    fill: var(--disabled-fill-color);\n",
              "    box-shadow: none;\n",
              "  }\n",
              "\n",
              "  .colab-df-spinner {\n",
              "    border: 2px solid var(--fill-color);\n",
              "    border-color: transparent;\n",
              "    border-bottom-color: var(--fill-color);\n",
              "    animation:\n",
              "      spin 1s steps(1) infinite;\n",
              "  }\n",
              "\n",
              "  @keyframes spin {\n",
              "    0% {\n",
              "      border-color: transparent;\n",
              "      border-bottom-color: var(--fill-color);\n",
              "      border-left-color: var(--fill-color);\n",
              "    }\n",
              "    20% {\n",
              "      border-color: transparent;\n",
              "      border-left-color: var(--fill-color);\n",
              "      border-top-color: var(--fill-color);\n",
              "    }\n",
              "    30% {\n",
              "      border-color: transparent;\n",
              "      border-left-color: var(--fill-color);\n",
              "      border-top-color: var(--fill-color);\n",
              "      border-right-color: var(--fill-color);\n",
              "    }\n",
              "    40% {\n",
              "      border-color: transparent;\n",
              "      border-right-color: var(--fill-color);\n",
              "      border-top-color: var(--fill-color);\n",
              "    }\n",
              "    60% {\n",
              "      border-color: transparent;\n",
              "      border-right-color: var(--fill-color);\n",
              "    }\n",
              "    80% {\n",
              "      border-color: transparent;\n",
              "      border-right-color: var(--fill-color);\n",
              "      border-bottom-color: var(--fill-color);\n",
              "    }\n",
              "    90% {\n",
              "      border-color: transparent;\n",
              "      border-bottom-color: var(--fill-color);\n",
              "    }\n",
              "  }\n",
              "</style>\n",
              "\n",
              "  <script>\n",
              "    async function quickchart(key) {\n",
              "      const quickchartButtonEl =\n",
              "        document.querySelector('#' + key + ' button');\n",
              "      quickchartButtonEl.disabled = true;  // To prevent multiple clicks.\n",
              "      quickchartButtonEl.classList.add('colab-df-spinner');\n",
              "      try {\n",
              "        const charts = await google.colab.kernel.invokeFunction(\n",
              "            'suggestCharts', [key], {});\n",
              "      } catch (error) {\n",
              "        console.error('Error during call to suggestCharts:', error);\n",
              "      }\n",
              "      quickchartButtonEl.classList.remove('colab-df-spinner');\n",
              "      quickchartButtonEl.classList.add('colab-df-quickchart-complete');\n",
              "    }\n",
              "    (() => {\n",
              "      let quickchartButtonEl =\n",
              "        document.querySelector('#df-b5e8ee67-86bc-476c-8dc7-3f9110c3ab97 button');\n",
              "      quickchartButtonEl.style.display =\n",
              "        google.colab.kernel.accessAllowed ? 'block' : 'none';\n",
              "    })();\n",
              "  </script>\n",
              "</div>\n",
              "\n",
              "    </div>\n",
              "  </div>\n"
            ],
            "application/vnd.google.colaboratory.intrinsic+json": {
              "type": "dataframe",
              "variable_name": "dataset_train",
              "summary": "{\n  \"name\": \"dataset_train\",\n  \"rows\": 1259,\n  \"fields\": [\n    {\n      \"column\": \"Date\",\n      \"properties\": {\n        \"dtype\": \"object\",\n        \"num_unique_values\": 1259,\n        \"samples\": [\n          \"2013-04-23\",\n          \"2017-01-30\",\n          \"2013-03-06\"\n        ],\n        \"semantic_type\": \"\",\n        \"description\": \"\"\n      }\n    },\n    {\n      \"column\": \"Open\",\n      \"properties\": {\n        \"dtype\": \"number\",\n        \"std\": 175.63057351209417,\n        \"min\": 350.053253,\n        \"max\": 1075.199951,\n        \"num_unique_values\": 1228,\n        \"samples\": [\n          727.580017,\n          524.118103,\n          553.40564\n        ],\n        \"semantic_type\": \"\",\n        \"description\": \"\"\n      }\n    },\n    {\n      \"column\": \"High\",\n      \"properties\": {\n        \"dtype\": \"number\",\n        \"std\": 176.62741611717948,\n        \"min\": 350.391052,\n        \"max\": 1078.48999,\n        \"num_unique_values\": 1239,\n        \"samples\": [\n          580.309143,\n          577.489014,\n          517.056946\n        ],\n        \"semantic_type\": \"\",\n        \"description\": \"\"\n      }\n    },\n    {\n      \"column\": \"Low\",\n      \"properties\": {\n        \"dtype\": \"number\",\n        \"std\": 174.73281352959697,\n        \"min\": 345.512787,\n        \"max\": 1063.550049,\n        \"num_unique_values\": 1240,\n        \"samples\": [\n          576.052551,\n          568.403076,\n          518.469177\n        ],\n        \"semantic_type\": \"\",\n        \"description\": \"\"\n      }\n    },\n    {\n      \"column\": \"Close\",\n      \"properties\": {\n        \"dtype\": \"number\",\n        \"std\": 175.82099273815913,\n        \"min\": 349.164032,\n        \"max\": 1077.140015,\n        \"num_unique_values\": 1245,\n        \"samples\": [\n          749.460022,\n          557.812866,\n          927.330017\n        ],\n        \"semantic_type\": \"\",\n        \"description\": \"\"\n      }\n    },\n    {\n      \"column\": \"Adj Close\",\n      \"properties\": {\n        \"dtype\": \"number\",\n        \"std\": 175.82099273815913,\n        \"min\": 349.164032,\n        \"max\": 1077.140015,\n        \"num_unique_values\": 1245,\n        \"samples\": [\n          749.460022,\n          557.812866,\n          927.330017\n        ],\n        \"semantic_type\": \"\",\n        \"description\": \"\"\n      }\n    },\n    {\n      \"column\": \"Volume\",\n      \"properties\": {\n        \"dtype\": \"number\",\n        \"std\": 1672159,\n        \"min\": 7900,\n        \"max\": 23283100,\n        \"num_unique_values\": 1228,\n        \"samples\": [\n          1837200,\n          2000000,\n          1477800\n        ],\n        \"semantic_type\": \"\",\n        \"description\": \"\"\n      }\n    }\n  ]\n}"
            }
          },
          "metadata": {},
          "execution_count": 8
        }
      ]
    },
    {
      "cell_type": "code",
      "source": [],
      "metadata": {
        "id": "CacOPdTOGnAO"
      },
      "execution_count": null,
      "outputs": []
    },
    {
      "cell_type": "code",
      "source": [
        "dataset_train.tail()"
      ],
      "metadata": {
        "colab": {
          "base_uri": "https://localhost:8080/",
          "height": 206
        },
        "id": "FPIAWH-3EmB8",
        "outputId": "4477e5d5-1f6e-439d-9cac-e94dbd64e233"
      },
      "execution_count": 9,
      "outputs": [
        {
          "output_type": "execute_result",
          "data": {
            "text/plain": [
              "            Date         Open         High          Low        Close  \\\n",
              "1254  2017-12-22  1061.109985  1064.199951  1059.439941  1060.119995   \n",
              "1255  2017-12-26  1058.069946  1060.119995  1050.199951  1056.739990   \n",
              "1256  2017-12-27  1057.390015  1058.369995  1048.050049  1049.369995   \n",
              "1257  2017-12-28  1051.599976  1054.750000  1044.770020  1048.140015   \n",
              "1258  2017-12-29  1046.719971  1049.699951  1044.900024  1046.400024   \n",
              "\n",
              "        Adj Close   Volume  \n",
              "1254  1060.119995   755100  \n",
              "1255  1056.739990   760600  \n",
              "1256  1049.369995  1271900  \n",
              "1257  1048.140015   837100  \n",
              "1258  1046.400024   887500  "
            ],
            "text/html": [
              "\n",
              "  <div id=\"df-566f200d-0caa-4a58-b674-6be5dfb0b089\" class=\"colab-df-container\">\n",
              "    <div>\n",
              "<style scoped>\n",
              "    .dataframe tbody tr th:only-of-type {\n",
              "        vertical-align: middle;\n",
              "    }\n",
              "\n",
              "    .dataframe tbody tr th {\n",
              "        vertical-align: top;\n",
              "    }\n",
              "\n",
              "    .dataframe thead th {\n",
              "        text-align: right;\n",
              "    }\n",
              "</style>\n",
              "<table border=\"1\" class=\"dataframe\">\n",
              "  <thead>\n",
              "    <tr style=\"text-align: right;\">\n",
              "      <th></th>\n",
              "      <th>Date</th>\n",
              "      <th>Open</th>\n",
              "      <th>High</th>\n",
              "      <th>Low</th>\n",
              "      <th>Close</th>\n",
              "      <th>Adj Close</th>\n",
              "      <th>Volume</th>\n",
              "    </tr>\n",
              "  </thead>\n",
              "  <tbody>\n",
              "    <tr>\n",
              "      <th>1254</th>\n",
              "      <td>2017-12-22</td>\n",
              "      <td>1061.109985</td>\n",
              "      <td>1064.199951</td>\n",
              "      <td>1059.439941</td>\n",
              "      <td>1060.119995</td>\n",
              "      <td>1060.119995</td>\n",
              "      <td>755100</td>\n",
              "    </tr>\n",
              "    <tr>\n",
              "      <th>1255</th>\n",
              "      <td>2017-12-26</td>\n",
              "      <td>1058.069946</td>\n",
              "      <td>1060.119995</td>\n",
              "      <td>1050.199951</td>\n",
              "      <td>1056.739990</td>\n",
              "      <td>1056.739990</td>\n",
              "      <td>760600</td>\n",
              "    </tr>\n",
              "    <tr>\n",
              "      <th>1256</th>\n",
              "      <td>2017-12-27</td>\n",
              "      <td>1057.390015</td>\n",
              "      <td>1058.369995</td>\n",
              "      <td>1048.050049</td>\n",
              "      <td>1049.369995</td>\n",
              "      <td>1049.369995</td>\n",
              "      <td>1271900</td>\n",
              "    </tr>\n",
              "    <tr>\n",
              "      <th>1257</th>\n",
              "      <td>2017-12-28</td>\n",
              "      <td>1051.599976</td>\n",
              "      <td>1054.750000</td>\n",
              "      <td>1044.770020</td>\n",
              "      <td>1048.140015</td>\n",
              "      <td>1048.140015</td>\n",
              "      <td>837100</td>\n",
              "    </tr>\n",
              "    <tr>\n",
              "      <th>1258</th>\n",
              "      <td>2017-12-29</td>\n",
              "      <td>1046.719971</td>\n",
              "      <td>1049.699951</td>\n",
              "      <td>1044.900024</td>\n",
              "      <td>1046.400024</td>\n",
              "      <td>1046.400024</td>\n",
              "      <td>887500</td>\n",
              "    </tr>\n",
              "  </tbody>\n",
              "</table>\n",
              "</div>\n",
              "    <div class=\"colab-df-buttons\">\n",
              "\n",
              "  <div class=\"colab-df-container\">\n",
              "    <button class=\"colab-df-convert\" onclick=\"convertToInteractive('df-566f200d-0caa-4a58-b674-6be5dfb0b089')\"\n",
              "            title=\"Convert this dataframe to an interactive table.\"\n",
              "            style=\"display:none;\">\n",
              "\n",
              "  <svg xmlns=\"http://www.w3.org/2000/svg\" height=\"24px\" viewBox=\"0 -960 960 960\">\n",
              "    <path d=\"M120-120v-720h720v720H120Zm60-500h600v-160H180v160Zm220 220h160v-160H400v160Zm0 220h160v-160H400v160ZM180-400h160v-160H180v160Zm440 0h160v-160H620v160ZM180-180h160v-160H180v160Zm440 0h160v-160H620v160Z\"/>\n",
              "  </svg>\n",
              "    </button>\n",
              "\n",
              "  <style>\n",
              "    .colab-df-container {\n",
              "      display:flex;\n",
              "      gap: 12px;\n",
              "    }\n",
              "\n",
              "    .colab-df-convert {\n",
              "      background-color: #E8F0FE;\n",
              "      border: none;\n",
              "      border-radius: 50%;\n",
              "      cursor: pointer;\n",
              "      display: none;\n",
              "      fill: #1967D2;\n",
              "      height: 32px;\n",
              "      padding: 0 0 0 0;\n",
              "      width: 32px;\n",
              "    }\n",
              "\n",
              "    .colab-df-convert:hover {\n",
              "      background-color: #E2EBFA;\n",
              "      box-shadow: 0px 1px 2px rgba(60, 64, 67, 0.3), 0px 1px 3px 1px rgba(60, 64, 67, 0.15);\n",
              "      fill: #174EA6;\n",
              "    }\n",
              "\n",
              "    .colab-df-buttons div {\n",
              "      margin-bottom: 4px;\n",
              "    }\n",
              "\n",
              "    [theme=dark] .colab-df-convert {\n",
              "      background-color: #3B4455;\n",
              "      fill: #D2E3FC;\n",
              "    }\n",
              "\n",
              "    [theme=dark] .colab-df-convert:hover {\n",
              "      background-color: #434B5C;\n",
              "      box-shadow: 0px 1px 3px 1px rgba(0, 0, 0, 0.15);\n",
              "      filter: drop-shadow(0px 1px 2px rgba(0, 0, 0, 0.3));\n",
              "      fill: #FFFFFF;\n",
              "    }\n",
              "  </style>\n",
              "\n",
              "    <script>\n",
              "      const buttonEl =\n",
              "        document.querySelector('#df-566f200d-0caa-4a58-b674-6be5dfb0b089 button.colab-df-convert');\n",
              "      buttonEl.style.display =\n",
              "        google.colab.kernel.accessAllowed ? 'block' : 'none';\n",
              "\n",
              "      async function convertToInteractive(key) {\n",
              "        const element = document.querySelector('#df-566f200d-0caa-4a58-b674-6be5dfb0b089');\n",
              "        const dataTable =\n",
              "          await google.colab.kernel.invokeFunction('convertToInteractive',\n",
              "                                                    [key], {});\n",
              "        if (!dataTable) return;\n",
              "\n",
              "        const docLinkHtml = 'Like what you see? Visit the ' +\n",
              "          '<a target=\"_blank\" href=https://colab.research.google.com/notebooks/data_table.ipynb>data table notebook</a>'\n",
              "          + ' to learn more about interactive tables.';\n",
              "        element.innerHTML = '';\n",
              "        dataTable['output_type'] = 'display_data';\n",
              "        await google.colab.output.renderOutput(dataTable, element);\n",
              "        const docLink = document.createElement('div');\n",
              "        docLink.innerHTML = docLinkHtml;\n",
              "        element.appendChild(docLink);\n",
              "      }\n",
              "    </script>\n",
              "  </div>\n",
              "\n",
              "\n",
              "<div id=\"df-35c97ae2-07cf-4166-807d-fb2ddf1c0c40\">\n",
              "  <button class=\"colab-df-quickchart\" onclick=\"quickchart('df-35c97ae2-07cf-4166-807d-fb2ddf1c0c40')\"\n",
              "            title=\"Suggest charts\"\n",
              "            style=\"display:none;\">\n",
              "\n",
              "<svg xmlns=\"http://www.w3.org/2000/svg\" height=\"24px\"viewBox=\"0 0 24 24\"\n",
              "     width=\"24px\">\n",
              "    <g>\n",
              "        <path d=\"M19 3H5c-1.1 0-2 .9-2 2v14c0 1.1.9 2 2 2h14c1.1 0 2-.9 2-2V5c0-1.1-.9-2-2-2zM9 17H7v-7h2v7zm4 0h-2V7h2v10zm4 0h-2v-4h2v4z\"/>\n",
              "    </g>\n",
              "</svg>\n",
              "  </button>\n",
              "\n",
              "<style>\n",
              "  .colab-df-quickchart {\n",
              "      --bg-color: #E8F0FE;\n",
              "      --fill-color: #1967D2;\n",
              "      --hover-bg-color: #E2EBFA;\n",
              "      --hover-fill-color: #174EA6;\n",
              "      --disabled-fill-color: #AAA;\n",
              "      --disabled-bg-color: #DDD;\n",
              "  }\n",
              "\n",
              "  [theme=dark] .colab-df-quickchart {\n",
              "      --bg-color: #3B4455;\n",
              "      --fill-color: #D2E3FC;\n",
              "      --hover-bg-color: #434B5C;\n",
              "      --hover-fill-color: #FFFFFF;\n",
              "      --disabled-bg-color: #3B4455;\n",
              "      --disabled-fill-color: #666;\n",
              "  }\n",
              "\n",
              "  .colab-df-quickchart {\n",
              "    background-color: var(--bg-color);\n",
              "    border: none;\n",
              "    border-radius: 50%;\n",
              "    cursor: pointer;\n",
              "    display: none;\n",
              "    fill: var(--fill-color);\n",
              "    height: 32px;\n",
              "    padding: 0;\n",
              "    width: 32px;\n",
              "  }\n",
              "\n",
              "  .colab-df-quickchart:hover {\n",
              "    background-color: var(--hover-bg-color);\n",
              "    box-shadow: 0 1px 2px rgba(60, 64, 67, 0.3), 0 1px 3px 1px rgba(60, 64, 67, 0.15);\n",
              "    fill: var(--button-hover-fill-color);\n",
              "  }\n",
              "\n",
              "  .colab-df-quickchart-complete:disabled,\n",
              "  .colab-df-quickchart-complete:disabled:hover {\n",
              "    background-color: var(--disabled-bg-color);\n",
              "    fill: var(--disabled-fill-color);\n",
              "    box-shadow: none;\n",
              "  }\n",
              "\n",
              "  .colab-df-spinner {\n",
              "    border: 2px solid var(--fill-color);\n",
              "    border-color: transparent;\n",
              "    border-bottom-color: var(--fill-color);\n",
              "    animation:\n",
              "      spin 1s steps(1) infinite;\n",
              "  }\n",
              "\n",
              "  @keyframes spin {\n",
              "    0% {\n",
              "      border-color: transparent;\n",
              "      border-bottom-color: var(--fill-color);\n",
              "      border-left-color: var(--fill-color);\n",
              "    }\n",
              "    20% {\n",
              "      border-color: transparent;\n",
              "      border-left-color: var(--fill-color);\n",
              "      border-top-color: var(--fill-color);\n",
              "    }\n",
              "    30% {\n",
              "      border-color: transparent;\n",
              "      border-left-color: var(--fill-color);\n",
              "      border-top-color: var(--fill-color);\n",
              "      border-right-color: var(--fill-color);\n",
              "    }\n",
              "    40% {\n",
              "      border-color: transparent;\n",
              "      border-right-color: var(--fill-color);\n",
              "      border-top-color: var(--fill-color);\n",
              "    }\n",
              "    60% {\n",
              "      border-color: transparent;\n",
              "      border-right-color: var(--fill-color);\n",
              "    }\n",
              "    80% {\n",
              "      border-color: transparent;\n",
              "      border-right-color: var(--fill-color);\n",
              "      border-bottom-color: var(--fill-color);\n",
              "    }\n",
              "    90% {\n",
              "      border-color: transparent;\n",
              "      border-bottom-color: var(--fill-color);\n",
              "    }\n",
              "  }\n",
              "</style>\n",
              "\n",
              "  <script>\n",
              "    async function quickchart(key) {\n",
              "      const quickchartButtonEl =\n",
              "        document.querySelector('#' + key + ' button');\n",
              "      quickchartButtonEl.disabled = true;  // To prevent multiple clicks.\n",
              "      quickchartButtonEl.classList.add('colab-df-spinner');\n",
              "      try {\n",
              "        const charts = await google.colab.kernel.invokeFunction(\n",
              "            'suggestCharts', [key], {});\n",
              "      } catch (error) {\n",
              "        console.error('Error during call to suggestCharts:', error);\n",
              "      }\n",
              "      quickchartButtonEl.classList.remove('colab-df-spinner');\n",
              "      quickchartButtonEl.classList.add('colab-df-quickchart-complete');\n",
              "    }\n",
              "    (() => {\n",
              "      let quickchartButtonEl =\n",
              "        document.querySelector('#df-35c97ae2-07cf-4166-807d-fb2ddf1c0c40 button');\n",
              "      quickchartButtonEl.style.display =\n",
              "        google.colab.kernel.accessAllowed ? 'block' : 'none';\n",
              "    })();\n",
              "  </script>\n",
              "</div>\n",
              "\n",
              "    </div>\n",
              "  </div>\n"
            ],
            "application/vnd.google.colaboratory.intrinsic+json": {
              "type": "dataframe",
              "repr_error": "0"
            }
          },
          "metadata": {},
          "execution_count": 9
        }
      ]
    },
    {
      "cell_type": "code",
      "source": [
        "dataset_train.shape"
      ],
      "metadata": {
        "colab": {
          "base_uri": "https://localhost:8080/"
        },
        "id": "cUef-nnZEtxf",
        "outputId": "2f9becc4-758f-4939-fa13-3208c90c1716"
      },
      "execution_count": 10,
      "outputs": [
        {
          "output_type": "execute_result",
          "data": {
            "text/plain": [
              "(1259, 7)"
            ]
          },
          "metadata": {},
          "execution_count": 10
        }
      ]
    },
    {
      "cell_type": "code",
      "source": [
        "train_set = dataset_train.iloc[:,1:2].values\n"
      ],
      "metadata": {
        "id": "XV0s58qRE1tR"
      },
      "execution_count": 11,
      "outputs": []
    },
    {
      "cell_type": "code",
      "source": [
        "type(train_set)\n"
      ],
      "metadata": {
        "colab": {
          "base_uri": "https://localhost:8080/"
        },
        "id": "UyV2yyDZFdUN",
        "outputId": "caae72be-c994-4c0e-d2bb-455aeaa34d35"
      },
      "execution_count": 12,
      "outputs": [
        {
          "output_type": "execute_result",
          "data": {
            "text/plain": [
              "numpy.ndarray"
            ]
          },
          "metadata": {},
          "execution_count": 12
        }
      ]
    },
    {
      "cell_type": "code",
      "source": [
        "sc = MinMaxScaler(feature_range=(0,1))\n",
        "training_set_scaled = sc.fit_transform(train_set)"
      ],
      "metadata": {
        "id": "hFmRplqlFimX"
      },
      "execution_count": 13,
      "outputs": []
    },
    {
      "cell_type": "code",
      "source": [
        "training_set_scaled.shape"
      ],
      "metadata": {
        "colab": {
          "base_uri": "https://localhost:8080/"
        },
        "id": "NOaeOwHsFpZe",
        "outputId": "42a866f3-6003-465a-e3d2-c406a3f6933e"
      },
      "execution_count": 14,
      "outputs": [
        {
          "output_type": "execute_result",
          "data": {
            "text/plain": [
              "(1259, 1)"
            ]
          },
          "metadata": {},
          "execution_count": 14
        }
      ]
    },
    {
      "cell_type": "code",
      "source": [
        "\n",
        "X_train_array = []\n",
        "y_train_array = []\n",
        "for i in range(60, 1259):\n",
        "  X_train_array.append(training_set_scaled[i-60:i,0])\n",
        "  y_train_array.append(training_set_scaled[i,0])\n",
        "X_train, y_train = np.array(X_train_array), np.array(y_train_array)\n",
        "X_train1 = X_train.reshape((X_train.shape[0], X_train.shape[1],1))"
      ],
      "metadata": {
        "id": "SF0DhhqOFvdA"
      },
      "execution_count": 15,
      "outputs": []
    },
    {
      "cell_type": "code",
      "source": [
        "X_train.shape"
      ],
      "metadata": {
        "colab": {
          "base_uri": "https://localhost:8080/"
        },
        "id": "-rXOqbt2F1R7",
        "outputId": "4773a0da-172f-437e-eba8-6fd3821746be"
      },
      "execution_count": 16,
      "outputs": [
        {
          "output_type": "execute_result",
          "data": {
            "text/plain": [
              "(1199, 60)"
            ]
          },
          "metadata": {},
          "execution_count": 16
        }
      ]
    },
    {
      "cell_type": "code",
      "source": [
        "length = 60\n",
        "n_features = 1"
      ],
      "metadata": {
        "id": "u5-WU1OsG0iW"
      },
      "execution_count": 17,
      "outputs": []
    },
    {
      "cell_type": "code",
      "source": [
        "model = Sequential()\n",
        "model.add(layers.SimpleRNN(60,input_shape=(length,n_features)))\n",
        "model.add(layers.Dense(1))\n",
        "model.compile(optimizer='adam', loss='mse')"
      ],
      "metadata": {
        "id": "mtPa-fT6HXNp"
      },
      "execution_count": 18,
      "outputs": []
    },
    {
      "cell_type": "code",
      "source": [
        "print(\"Name: SABARI S      Register Number: 212222240085       \")\n",
        "model.summary()"
      ],
      "metadata": {
        "colab": {
          "base_uri": "https://localhost:8080/"
        },
        "id": "3Oky6mXYHsBe",
        "outputId": "78e467f6-4ee2-42a6-8eba-ca05ffed57b2"
      },
      "execution_count": 19,
      "outputs": [
        {
          "output_type": "stream",
          "name": "stdout",
          "text": [
            "Name: SABARI S      Register Number: 212222240085       \n",
            "Model: \"sequential\"\n",
            "_________________________________________________________________\n",
            " Layer (type)                Output Shape              Param #   \n",
            "=================================================================\n",
            " simple_rnn (SimpleRNN)      (None, 60)                3720      \n",
            "                                                                 \n",
            " dense (Dense)               (None, 1)                 61        \n",
            "                                                                 \n",
            "=================================================================\n",
            "Total params: 3781 (14.77 KB)\n",
            "Trainable params: 3781 (14.77 KB)\n",
            "Non-trainable params: 0 (0.00 Byte)\n",
            "_________________________________________________________________\n"
          ]
        }
      ]
    },
    {
      "cell_type": "code",
      "source": [
        "model.fit(X_train1,y_train,epochs=100, batch_size=32)\n",
        "\n"
      ],
      "metadata": {
        "colab": {
          "base_uri": "https://localhost:8080/"
        },
        "id": "w4roh3j-H0nu",
        "outputId": "b6d32960-9cfe-4a69-ec29-7c19175f2b75"
      },
      "execution_count": 21,
      "outputs": [
        {
          "output_type": "stream",
          "name": "stdout",
          "text": [
            "Epoch 1/100\n",
            "38/38 [==============================] - 0s 6ms/step - loss: 1.7264e-04\n",
            "Epoch 2/100\n",
            "38/38 [==============================] - 0s 6ms/step - loss: 1.6120e-04\n",
            "Epoch 3/100\n",
            "38/38 [==============================] - 0s 7ms/step - loss: 1.8496e-04\n",
            "Epoch 4/100\n",
            "38/38 [==============================] - 0s 6ms/step - loss: 1.6388e-04\n",
            "Epoch 5/100\n",
            "38/38 [==============================] - 0s 7ms/step - loss: 1.9336e-04\n",
            "Epoch 6/100\n",
            "38/38 [==============================] - 0s 7ms/step - loss: 1.6603e-04\n",
            "Epoch 7/100\n",
            "38/38 [==============================] - 0s 7ms/step - loss: 1.6619e-04\n",
            "Epoch 8/100\n",
            "38/38 [==============================] - 0s 7ms/step - loss: 1.6983e-04\n",
            "Epoch 9/100\n",
            "38/38 [==============================] - 0s 7ms/step - loss: 1.7472e-04\n",
            "Epoch 10/100\n",
            "38/38 [==============================] - 0s 7ms/step - loss: 1.7078e-04\n",
            "Epoch 11/100\n",
            "38/38 [==============================] - 0s 7ms/step - loss: 1.6433e-04\n",
            "Epoch 12/100\n",
            "38/38 [==============================] - 0s 7ms/step - loss: 1.6355e-04\n",
            "Epoch 13/100\n",
            "38/38 [==============================] - 0s 7ms/step - loss: 1.6572e-04\n",
            "Epoch 14/100\n",
            "38/38 [==============================] - 0s 7ms/step - loss: 1.7518e-04\n",
            "Epoch 15/100\n",
            "38/38 [==============================] - 0s 7ms/step - loss: 1.7601e-04\n",
            "Epoch 16/100\n",
            "38/38 [==============================] - 0s 6ms/step - loss: 1.6488e-04\n",
            "Epoch 17/100\n",
            "38/38 [==============================] - 0s 6ms/step - loss: 1.7061e-04\n",
            "Epoch 18/100\n",
            "38/38 [==============================] - 0s 7ms/step - loss: 1.6330e-04\n",
            "Epoch 19/100\n",
            "38/38 [==============================] - 0s 6ms/step - loss: 1.7636e-04\n",
            "Epoch 20/100\n",
            "38/38 [==============================] - 0s 6ms/step - loss: 1.8367e-04\n",
            "Epoch 21/100\n",
            "38/38 [==============================] - 0s 7ms/step - loss: 1.6863e-04\n",
            "Epoch 22/100\n",
            "38/38 [==============================] - 0s 7ms/step - loss: 1.7426e-04\n",
            "Epoch 23/100\n",
            "38/38 [==============================] - 0s 7ms/step - loss: 1.6911e-04\n",
            "Epoch 24/100\n",
            "38/38 [==============================] - 0s 6ms/step - loss: 1.6850e-04\n",
            "Epoch 25/100\n",
            "38/38 [==============================] - 0s 7ms/step - loss: 1.7328e-04\n",
            "Epoch 26/100\n",
            "38/38 [==============================] - 0s 6ms/step - loss: 1.7890e-04\n",
            "Epoch 27/100\n",
            "38/38 [==============================] - 0s 6ms/step - loss: 1.7181e-04\n",
            "Epoch 28/100\n",
            "38/38 [==============================] - 0s 6ms/step - loss: 1.6967e-04\n",
            "Epoch 29/100\n",
            "38/38 [==============================] - 0s 6ms/step - loss: 1.6395e-04\n",
            "Epoch 30/100\n",
            "38/38 [==============================] - 0s 6ms/step - loss: 1.6892e-04\n",
            "Epoch 31/100\n",
            "38/38 [==============================] - 0s 6ms/step - loss: 2.1742e-04\n",
            "Epoch 32/100\n",
            "38/38 [==============================] - 0s 7ms/step - loss: 2.0469e-04\n",
            "Epoch 33/100\n",
            "38/38 [==============================] - 0s 7ms/step - loss: 1.6198e-04\n",
            "Epoch 34/100\n",
            "38/38 [==============================] - 0s 6ms/step - loss: 1.6829e-04\n",
            "Epoch 35/100\n",
            "38/38 [==============================] - 0s 9ms/step - loss: 1.6353e-04\n",
            "Epoch 36/100\n",
            "38/38 [==============================] - 0s 10ms/step - loss: 1.6653e-04\n",
            "Epoch 37/100\n",
            "38/38 [==============================] - 0s 11ms/step - loss: 1.6895e-04\n",
            "Epoch 38/100\n",
            "38/38 [==============================] - 0s 9ms/step - loss: 1.6865e-04\n",
            "Epoch 39/100\n",
            "38/38 [==============================] - 0s 6ms/step - loss: 1.6983e-04\n",
            "Epoch 40/100\n",
            "38/38 [==============================] - 0s 6ms/step - loss: 1.6674e-04\n",
            "Epoch 41/100\n",
            "38/38 [==============================] - 0s 6ms/step - loss: 1.8909e-04\n",
            "Epoch 42/100\n",
            "38/38 [==============================] - 0s 7ms/step - loss: 1.6937e-04\n",
            "Epoch 43/100\n",
            "38/38 [==============================] - 0s 6ms/step - loss: 1.6581e-04\n",
            "Epoch 44/100\n",
            "38/38 [==============================] - 0s 7ms/step - loss: 1.7242e-04\n",
            "Epoch 45/100\n",
            "38/38 [==============================] - 0s 6ms/step - loss: 1.8083e-04\n",
            "Epoch 46/100\n",
            "38/38 [==============================] - 0s 7ms/step - loss: 1.6582e-04\n",
            "Epoch 47/100\n",
            "38/38 [==============================] - 0s 7ms/step - loss: 1.7874e-04\n",
            "Epoch 48/100\n",
            "38/38 [==============================] - 0s 7ms/step - loss: 1.8975e-04\n",
            "Epoch 49/100\n",
            "38/38 [==============================] - 0s 6ms/step - loss: 1.6377e-04\n",
            "Epoch 50/100\n",
            "38/38 [==============================] - 0s 7ms/step - loss: 1.8378e-04\n",
            "Epoch 51/100\n",
            "38/38 [==============================] - 0s 7ms/step - loss: 1.6333e-04\n",
            "Epoch 52/100\n",
            "38/38 [==============================] - 0s 7ms/step - loss: 1.9291e-04\n",
            "Epoch 53/100\n",
            "38/38 [==============================] - 0s 7ms/step - loss: 1.7113e-04\n",
            "Epoch 54/100\n",
            "38/38 [==============================] - 0s 7ms/step - loss: 1.7301e-04\n",
            "Epoch 55/100\n",
            "38/38 [==============================] - 0s 7ms/step - loss: 1.7311e-04\n",
            "Epoch 56/100\n",
            "38/38 [==============================] - 0s 7ms/step - loss: 1.6711e-04\n",
            "Epoch 57/100\n",
            "38/38 [==============================] - 0s 6ms/step - loss: 1.6736e-04\n",
            "Epoch 58/100\n",
            "38/38 [==============================] - 0s 6ms/step - loss: 1.6016e-04\n",
            "Epoch 59/100\n",
            "38/38 [==============================] - 0s 6ms/step - loss: 1.7544e-04\n",
            "Epoch 60/100\n",
            "38/38 [==============================] - 0s 7ms/step - loss: 1.6373e-04\n",
            "Epoch 61/100\n",
            "38/38 [==============================] - 0s 6ms/step - loss: 1.6801e-04\n",
            "Epoch 62/100\n",
            "38/38 [==============================] - 0s 7ms/step - loss: 1.8281e-04\n",
            "Epoch 63/100\n",
            "38/38 [==============================] - 0s 7ms/step - loss: 1.6800e-04\n",
            "Epoch 64/100\n",
            "38/38 [==============================] - 0s 6ms/step - loss: 1.6790e-04\n",
            "Epoch 65/100\n",
            "38/38 [==============================] - 0s 6ms/step - loss: 1.6217e-04\n",
            "Epoch 66/100\n",
            "38/38 [==============================] - 0s 7ms/step - loss: 1.8504e-04\n",
            "Epoch 67/100\n",
            "38/38 [==============================] - 0s 7ms/step - loss: 2.0155e-04\n",
            "Epoch 68/100\n",
            "38/38 [==============================] - 0s 7ms/step - loss: 2.0067e-04\n",
            "Epoch 69/100\n",
            "38/38 [==============================] - 0s 6ms/step - loss: 1.7708e-04\n",
            "Epoch 70/100\n",
            "38/38 [==============================] - 0s 7ms/step - loss: 1.6556e-04\n",
            "Epoch 71/100\n",
            "38/38 [==============================] - 0s 7ms/step - loss: 1.8204e-04\n",
            "Epoch 72/100\n",
            "38/38 [==============================] - 0s 7ms/step - loss: 1.7294e-04\n",
            "Epoch 73/100\n",
            "38/38 [==============================] - 0s 7ms/step - loss: 1.7386e-04\n",
            "Epoch 74/100\n",
            "38/38 [==============================] - 0s 7ms/step - loss: 1.7975e-04\n",
            "Epoch 75/100\n",
            "38/38 [==============================] - 0s 6ms/step - loss: 1.8224e-04\n",
            "Epoch 76/100\n",
            "38/38 [==============================] - 0s 6ms/step - loss: 1.6020e-04\n",
            "Epoch 77/100\n",
            "38/38 [==============================] - 0s 7ms/step - loss: 1.6788e-04\n",
            "Epoch 78/100\n",
            "38/38 [==============================] - 0s 11ms/step - loss: 1.7673e-04\n",
            "Epoch 79/100\n",
            "38/38 [==============================] - 0s 10ms/step - loss: 1.6656e-04\n",
            "Epoch 80/100\n",
            "38/38 [==============================] - 0s 11ms/step - loss: 1.8873e-04\n",
            "Epoch 81/100\n",
            "38/38 [==============================] - 0s 7ms/step - loss: 1.6810e-04\n",
            "Epoch 82/100\n",
            "38/38 [==============================] - 0s 7ms/step - loss: 1.7551e-04\n",
            "Epoch 83/100\n",
            "38/38 [==============================] - 0s 6ms/step - loss: 1.6467e-04\n",
            "Epoch 84/100\n",
            "38/38 [==============================] - 0s 7ms/step - loss: 1.6605e-04\n",
            "Epoch 85/100\n",
            "38/38 [==============================] - 0s 7ms/step - loss: 1.6102e-04\n",
            "Epoch 86/100\n",
            "38/38 [==============================] - 0s 7ms/step - loss: 1.6706e-04\n",
            "Epoch 87/100\n",
            "38/38 [==============================] - 0s 6ms/step - loss: 1.6768e-04\n",
            "Epoch 88/100\n",
            "38/38 [==============================] - 0s 7ms/step - loss: 1.6858e-04\n",
            "Epoch 89/100\n",
            "38/38 [==============================] - 0s 7ms/step - loss: 1.6879e-04\n",
            "Epoch 90/100\n",
            "38/38 [==============================] - 0s 6ms/step - loss: 1.6713e-04\n",
            "Epoch 91/100\n",
            "38/38 [==============================] - 0s 6ms/step - loss: 1.6762e-04\n",
            "Epoch 92/100\n",
            "38/38 [==============================] - 0s 6ms/step - loss: 1.7839e-04\n",
            "Epoch 93/100\n",
            "38/38 [==============================] - 0s 7ms/step - loss: 1.5866e-04\n",
            "Epoch 94/100\n",
            "38/38 [==============================] - 0s 6ms/step - loss: 1.6622e-04\n",
            "Epoch 95/100\n",
            "38/38 [==============================] - 0s 7ms/step - loss: 1.7219e-04\n",
            "Epoch 96/100\n",
            "38/38 [==============================] - 0s 7ms/step - loss: 1.6728e-04\n",
            "Epoch 97/100\n",
            "38/38 [==============================] - 0s 7ms/step - loss: 1.6842e-04\n",
            "Epoch 98/100\n",
            "38/38 [==============================] - 0s 7ms/step - loss: 1.6695e-04\n",
            "Epoch 99/100\n",
            "38/38 [==============================] - 0s 7ms/step - loss: 1.7897e-04\n",
            "Epoch 100/100\n",
            "38/38 [==============================] - 0s 7ms/step - loss: 1.6980e-04\n"
          ]
        },
        {
          "output_type": "execute_result",
          "data": {
            "text/plain": [
              "<keras.src.callbacks.History at 0x7cb97919de40>"
            ]
          },
          "metadata": {},
          "execution_count": 21
        }
      ]
    },
    {
      "cell_type": "code",
      "source": [
        "dataset_test = pd.read_csv('testset.csv')"
      ],
      "metadata": {
        "id": "fxZb5q3_ImlB"
      },
      "execution_count": 23,
      "outputs": []
    },
    {
      "cell_type": "code",
      "source": [
        "test_set = dataset_test.iloc[:,1:2].values"
      ],
      "metadata": {
        "id": "2m-Z9iMcJFO5"
      },
      "execution_count": 24,
      "outputs": []
    },
    {
      "cell_type": "code",
      "source": [
        "test_set.shape"
      ],
      "metadata": {
        "colab": {
          "base_uri": "https://localhost:8080/"
        },
        "id": "oeIBAiUVJGvx",
        "outputId": "4dd33ec8-94f9-4d5b-d4c8-a4a36674be59"
      },
      "execution_count": 25,
      "outputs": [
        {
          "output_type": "execute_result",
          "data": {
            "text/plain": [
              "(125, 1)"
            ]
          },
          "metadata": {},
          "execution_count": 25
        }
      ]
    },
    {
      "cell_type": "code",
      "source": [
        "dataset_total = pd.concat((dataset_train['Open'],dataset_test['Open']),axis=0)"
      ],
      "metadata": {
        "id": "I72zw5FjJMPK"
      },
      "execution_count": 26,
      "outputs": []
    },
    {
      "cell_type": "code",
      "source": [
        "\n",
        "inputs = dataset_total.values\n",
        "inputs = inputs.reshape(-1,1)\n",
        "inputs_scaled=sc.transform(inputs)\n",
        "X_test = []\n",
        "for i in range(60,1384):\n",
        "  X_test.append(inputs_scaled[i-60:i,0])\n",
        "X_test = np.array(X_test)\n",
        "X_test = np.reshape(X_test,(X_test.shape[0], X_test.shape[1],1))"
      ],
      "metadata": {
        "id": "oftDz1efJQOI"
      },
      "execution_count": 27,
      "outputs": []
    },
    {
      "cell_type": "code",
      "source": [
        "X_test.shape"
      ],
      "metadata": {
        "colab": {
          "base_uri": "https://localhost:8080/"
        },
        "id": "q1J5AttfJRtH",
        "outputId": "6052ccc9-4f48-47ee-b9b9-bd0ec74cb13d"
      },
      "execution_count": 28,
      "outputs": [
        {
          "output_type": "execute_result",
          "data": {
            "text/plain": [
              "(1324, 60, 1)"
            ]
          },
          "metadata": {},
          "execution_count": 28
        }
      ]
    },
    {
      "cell_type": "code",
      "source": [
        "predicted_stock_price_scaled = model.predict(X_test)\n",
        "predicted_stock_price = sc.inverse_transform(predicted_stock_price_scaled)"
      ],
      "metadata": {
        "colab": {
          "base_uri": "https://localhost:8080/"
        },
        "id": "eMoBJ5bcJUom",
        "outputId": "f3cd85e9-7a9c-4968-ab5b-2168f19aceee"
      },
      "execution_count": 29,
      "outputs": [
        {
          "output_type": "stream",
          "name": "stdout",
          "text": [
            "42/42 [==============================] - 0s 3ms/step\n"
          ]
        }
      ]
    },
    {
      "cell_type": "code",
      "source": [
        "print(\"Name:SABARI S   Register Number:212222240085   \")\n",
        "plt.plot(np.arange(0,1384),inputs, color='red', label = 'Test(Real) Google stock price')\n",
        "plt.plot(np.arange(60,1384),predicted_stock_price, color='blue', label = 'Predicted Google stock price')\n",
        "plt.title('Google Stock Price Prediction')\n",
        "plt.xlabel('Time')\n",
        "plt.ylabel('Google Stock Price')\n",
        "plt.legend()\n",
        "plt.show()"
      ],
      "metadata": {
        "colab": {
          "base_uri": "https://localhost:8080/",
          "height": 489
        },
        "id": "NyclX0TyJYmE",
        "outputId": "2e3e5a99-6f5c-48cb-b192-e0a4a043b918"
      },
      "execution_count": 30,
      "outputs": [
        {
          "output_type": "stream",
          "name": "stdout",
          "text": [
            "Name:SABARI S   Register Number:212222240085   \n"
          ]
        },
        {
          "output_type": "display_data",
          "data": {
            "text/plain": [
              "<Figure size 640x480 with 1 Axes>"
            ],
            "image/png": "[encoded data removed]"
          },
          "metadata": {}
        }
      ]
    }
  ]
}